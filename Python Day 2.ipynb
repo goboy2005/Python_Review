{
  "nbformat": 4,
  "nbformat_minor": 0,
  "metadata": {
    "colab": {
      "name": "Python Day 2 .ipynb",
      "provenance": [],
      "collapsed_sections": [],
      "authorship_tag": "ABX9TyPnLOIhYM+yfDzJvs2B/8Qi",
      "include_colab_link": true
    },
    "kernelspec": {
      "name": "python3",
      "display_name": "Python 3"
    }
  },
  "cells": [
    {
      "cell_type": "markdown",
      "metadata": {
        "id": "view-in-github",
        "colab_type": "text"
      },
      "source": [
        "<a href=\"https://colab.research.google.com/github/goboy2005/Python_Review/blob/main/Python%20Day%202.ipynb\" target=\"_parent\"><img src=\"https://colab.research.google.com/assets/colab-badge.svg\" alt=\"Open In Colab\"/></a>"
      ]
    },
    {
      "cell_type": "code",
      "metadata": {
        "id": "9yhq50jxx7mQ"
      },
      "source": [
        "#24\r\n",
        "for i in range(2,10):\r\n",
        "  for j in range(1,10):\r\n",
        "      print( i ,'x', j ,'=', i*j)\r\n",
        "    "
      ],
      "execution_count": null,
      "outputs": []
    },
    {
      "cell_type": "code",
      "metadata": {
        "colab": {
          "base_uri": "https://localhost:8080/"
        },
        "id": "JlLKiBzx688E",
        "outputId": "ed579e4f-4751-47f1-eaf5-501f914112c2"
      },
      "source": [
        "#25\r\n",
        "for i in range(1,10):\r\n",
        "  print(2,'x',i,'=',2*i)"
      ],
      "execution_count": null,
      "outputs": [
        {
          "output_type": "stream",
          "text": [
            "2 x 1 = 2\n",
            "2 x 2 = 4\n",
            "2 x 3 = 6\n",
            "2 x 4 = 8\n",
            "2 x 5 = 10\n",
            "2 x 6 = 12\n",
            "2 x 7 = 14\n",
            "2 x 8 = 16\n",
            "2 x 9 = 18\n"
          ],
          "name": "stdout"
        }
      ]
    },
    {
      "cell_type": "code",
      "metadata": {
        "colab": {
          "base_uri": "https://localhost:8080/"
        },
        "id": "qslR4ro87ILB",
        "outputId": "80956251-2930-4588-dc28-d1258bd7ce6a"
      },
      "source": [
        "#26\r\n",
        "dice=range(1,7)\r\n",
        "import random\r\n",
        "for i in range(1,11):\r\n",
        "\r\n",
        "  result=random.choice(dice)\r\n",
        "  print(result)"
      ],
      "execution_count": null,
      "outputs": [
        {
          "output_type": "stream",
          "text": [
            "3\n",
            "6\n",
            "6\n",
            "2\n",
            "1\n",
            "4\n",
            "1\n",
            "5\n",
            "2\n",
            "1\n"
          ],
          "name": "stdout"
        }
      ]
    },
    {
      "cell_type": "code",
      "metadata": {
        "colab": {
          "base_uri": "https://localhost:8080/"
        },
        "id": "lVN9cV9t7eGA",
        "outputId": "6b3b7947-0b02-4256-cf04-db91076e01ff"
      },
      "source": [
        "#27\r\n",
        "cnt=0\r\n",
        "for i in range(1,6):\r\n",
        "  result=random.choice(dice)\r\n",
        "  if result%2==0:\r\n",
        "    cnt=cnt+1\r\n",
        "print(cnt)"
      ],
      "execution_count": null,
      "outputs": [
        {
          "output_type": "stream",
          "text": [
            "4\n"
          ],
          "name": "stdout"
        }
      ]
    },
    {
      "cell_type": "code",
      "metadata": {
        "colab": {
          "base_uri": "https://localhost:8080/"
        },
        "id": "0AZ0bHeV8QZt",
        "outputId": "12d57ed2-3cdb-4e58-cd30-67e4992aade1"
      },
      "source": [
        "#28\r\n",
        "cnt=0\r\n",
        "coin=['head','tail']\r\n",
        "for i in range(1,101):\r\n",
        "  result=random.choice(coin)\r\n",
        "  if result=='head':\r\n",
        "    cnt=cnt+1\r\n",
        "print(cnt/100)\r\n"
      ],
      "execution_count": null,
      "outputs": [
        {
          "output_type": "stream",
          "text": [
            "0.46\n"
          ],
          "name": "stdout"
        }
      ]
    },
    {
      "cell_type": "code",
      "metadata": {
        "colab": {
          "base_uri": "https://localhost:8080/"
        },
        "id": "8aXPMrXv8x5G",
        "outputId": "c7e15bb8-f740-45cb-d638-5f8d813676c5"
      },
      "source": [
        "#29,30\r\n",
        "a=[]\r\n",
        "for j in range(1,51):\r\n",
        "  cnt=0\r\n",
        "  for i in range(1,51):\r\n",
        "    result=random.choice(coin)\r\n",
        "    if result=='head':\r\n",
        "      cnt=cnt+1\r\n",
        "  a.append(cnt/51)\r\n",
        "print(a)\r\n",
        "print(len(a))"
      ],
      "execution_count": null,
      "outputs": [
        {
          "output_type": "stream",
          "text": [
            "[0.5098039215686274, 0.47058823529411764, 0.6666666666666666, 0.35294117647058826, 0.45098039215686275, 0.5490196078431373, 0.37254901960784315, 0.5294117647058824, 0.39215686274509803, 0.6470588235294118, 0.5294117647058824, 0.37254901960784315, 0.47058823529411764, 0.39215686274509803, 0.5098039215686274, 0.5294117647058824, 0.49019607843137253, 0.49019607843137253, 0.4117647058823529, 0.5098039215686274, 0.45098039215686275, 0.45098039215686275, 0.37254901960784315, 0.5294117647058824, 0.5686274509803921, 0.49019607843137253, 0.5882352941176471, 0.43137254901960786, 0.5490196078431373, 0.6274509803921569, 0.5098039215686274, 0.49019607843137253, 0.4117647058823529, 0.47058823529411764, 0.5686274509803921, 0.35294117647058826, 0.47058823529411764, 0.43137254901960786, 0.5882352941176471, 0.45098039215686275, 0.5098039215686274, 0.45098039215686275, 0.45098039215686275, 0.49019607843137253, 0.49019607843137253, 0.5686274509803921, 0.43137254901960786, 0.47058823529411764, 0.49019607843137253, 0.39215686274509803]\n",
            "50\n"
          ],
          "name": "stdout"
        }
      ]
    },
    {
      "cell_type": "code",
      "metadata": {
        "colab": {
          "base_uri": "https://localhost:8080/"
        },
        "id": "327EWHJu9Spa",
        "outputId": "38806a36-55bc-4b08-82b4-0eeb5eaab11a"
      },
      "source": [
        "#31\r\n",
        "cnt=0\r\n",
        "for i in range(1,301):\r\n",
        "  result_coin1=random.choice(coin)\r\n",
        "  result_coin2=random.choice(coin)\r\n",
        "  if result_coin1=='head' and result_coin2=='head':\r\n",
        "    cnt=cnt+1\r\n",
        "print(cnt)\r\n"
      ],
      "execution_count": null,
      "outputs": [
        {
          "output_type": "stream",
          "text": [
            "78\n"
          ],
          "name": "stdout"
        }
      ]
    },
    {
      "cell_type": "code",
      "metadata": {
        "colab": {
          "base_uri": "https://localhost:8080/"
        },
        "id": "8jS_mW_Z_NyJ",
        "outputId": "29089202-5b23-4f5f-f157-912572bb8a5e"
      },
      "source": [
        "#32\r\n",
        "x=[]\r\n",
        "for i in range(1,1001):\r\n",
        "  cnt=0\r\n",
        "  for j in range(1,1001):  \r\n",
        "    result_coin1=random.choice(coin)\r\n",
        "    result_coin2=random.choice(coin)\r\n",
        "    if result_coin1=='head' and result_coin2=='head':\r\n",
        "      cnt=cnt+1\r\n",
        "  x.append(cnt)\r\n",
        "print(x)\r\n",
        "print(len(x))"
      ],
      "execution_count": null,
      "outputs": [
        {
          "output_type": "stream",
          "text": [
            "[234, 242, 252, 237, 263, 245, 245, 270, 246, 269, 235, 238, 247, 244, 230, 270, 246, 266, 249, 255, 255, 228, 270, 243, 262, 257, 251, 244, 250, 266, 272, 253, 251, 242, 241, 240, 237, 226, 257, 255, 236, 269, 238, 234, 246, 241, 245, 232, 256, 267, 252, 261, 277, 240, 237, 246, 240, 238, 254, 253, 245, 246, 234, 247, 239, 227, 229, 248, 255, 243, 252, 220, 286, 298, 251, 267, 258, 269, 241, 242, 260, 264, 255, 256, 266, 246, 238, 246, 245, 250, 246, 244, 252, 260, 267, 234, 245, 246, 257, 244, 256, 252, 236, 241, 254, 246, 257, 249, 265, 242, 241, 238, 252, 252, 255, 244, 265, 253, 259, 242, 264, 231, 222, 238, 238, 246, 252, 260, 258, 244, 238, 264, 255, 249, 255, 259, 258, 250, 225, 250, 235, 250, 247, 240, 243, 245, 250, 233, 232, 249, 250, 243, 234, 252, 242, 249, 252, 228, 226, 246, 245, 270, 225, 247, 272, 234, 251, 249, 232, 240, 255, 256, 259, 249, 244, 261, 241, 254, 229, 237, 253, 249, 265, 250, 257, 233, 256, 265, 262, 264, 256, 249, 245, 259, 287, 243, 245, 269, 256, 269, 269, 249, 251, 264, 271, 236, 245, 241, 259, 255, 233, 256, 258, 256, 246, 256, 268, 240, 242, 249, 254, 273, 264, 245, 241, 258, 258, 244, 226, 247, 247, 272, 246, 248, 265, 282, 260, 259, 230, 238, 290, 230, 273, 229, 262, 241, 247, 249, 242, 224, 231, 233, 259, 258, 256, 247, 232, 242, 240, 227, 254, 246, 247, 265, 247, 224, 251, 261, 236, 268, 248, 261, 260, 251, 261, 273, 248, 245, 250, 256, 256, 228, 226, 258, 247, 246, 251, 259, 263, 265, 243, 260, 246, 252, 251, 229, 266, 239, 268, 274, 251, 226, 225, 254, 258, 265, 228, 255, 264, 255, 257, 241, 260, 228, 257, 259, 234, 214, 247, 272, 273, 233, 263, 276, 257, 235, 259, 242, 240, 246, 239, 271, 234, 258, 273, 264, 265, 260, 267, 276, 270, 240, 254, 250, 264, 256, 246, 240, 263, 247, 243, 234, 239, 235, 246, 248, 255, 260, 246, 251, 246, 247, 232, 263, 249, 252, 250, 254, 257, 246, 246, 273, 241, 242, 232, 236, 250, 272, 238, 212, 271, 258, 291, 229, 254, 250, 231, 244, 253, 241, 248, 247, 247, 232, 243, 233, 256, 256, 238, 247, 229, 253, 276, 234, 253, 241, 270, 215, 269, 249, 274, 266, 257, 236, 219, 254, 232, 266, 240, 244, 238, 269, 251, 244, 221, 268, 268, 249, 259, 252, 247, 257, 251, 227, 254, 271, 245, 253, 274, 238, 247, 240, 234, 251, 242, 274, 237, 246, 263, 236, 252, 252, 248, 265, 262, 270, 229, 287, 248, 248, 266, 256, 265, 222, 239, 275, 255, 243, 255, 271, 239, 259, 246, 249, 263, 245, 247, 273, 267, 254, 243, 234, 224, 239, 262, 232, 259, 256, 226, 232, 255, 236, 234, 240, 246, 240, 250, 237, 232, 240, 246, 236, 247, 249, 274, 264, 248, 242, 206, 243, 234, 241, 254, 230, 254, 248, 262, 253, 240, 270, 259, 259, 253, 253, 248, 263, 229, 258, 246, 248, 227, 266, 241, 261, 253, 238, 221, 270, 262, 268, 253, 255, 261, 238, 256, 231, 284, 230, 253, 250, 261, 242, 240, 268, 247, 244, 254, 243, 258, 249, 262, 243, 247, 220, 244, 272, 240, 267, 258, 213, 247, 239, 261, 247, 258, 243, 236, 261, 258, 261, 244, 226, 271, 255, 252, 241, 251, 242, 262, 240, 265, 249, 247, 245, 240, 233, 244, 241, 254, 254, 234, 283, 226, 227, 265, 248, 251, 271, 259, 265, 239, 250, 236, 259, 233, 218, 257, 280, 237, 264, 246, 251, 252, 242, 250, 251, 259, 251, 273, 232, 260, 236, 228, 248, 239, 259, 249, 242, 251, 247, 230, 233, 259, 252, 238, 276, 252, 250, 250, 271, 228, 278, 267, 255, 257, 243, 268, 265, 236, 230, 259, 255, 251, 272, 254, 262, 255, 254, 227, 266, 251, 253, 268, 270, 242, 240, 255, 259, 259, 225, 247, 240, 234, 260, 261, 246, 218, 250, 243, 241, 262, 245, 253, 245, 260, 234, 224, 248, 267, 245, 254, 255, 248, 275, 275, 253, 257, 259, 221, 247, 259, 233, 236, 258, 247, 253, 243, 260, 225, 256, 270, 266, 263, 259, 261, 241, 254, 257, 259, 258, 234, 256, 238, 243, 254, 244, 227, 253, 275, 254, 242, 235, 257, 274, 250, 204, 264, 249, 239, 259, 237, 264, 248, 228, 237, 253, 240, 237, 250, 256, 232, 257, 252, 221, 244, 241, 241, 263, 248, 253, 230, 243, 266, 256, 248, 257, 266, 237, 247, 261, 252, 251, 256, 255, 238, 248, 247, 253, 243, 244, 250, 258, 266, 244, 253, 261, 252, 234, 222, 248, 235, 255, 244, 259, 285, 251, 234, 281, 246, 238, 257, 262, 250, 247, 237, 260, 237, 254, 247, 252, 250, 244, 251, 233, 259, 263, 255, 241, 266, 258, 257, 243, 268, 223, 281, 252, 219, 262, 264, 259, 243, 244, 252, 255, 251, 243, 237, 267, 227, 240, 251, 261, 230, 279, 258, 258, 252, 264, 238, 242, 208, 266, 256, 253, 268, 253, 224, 258, 257, 237, 254, 277, 250, 251, 232, 247, 252, 259, 275, 250, 253, 248, 230, 239, 246, 254, 243, 250, 260, 240, 242, 257, 241, 246, 251, 243, 256, 230, 254, 271, 234, 254, 247, 286, 242, 229, 245, 263, 256, 243, 259, 252, 250, 250, 283, 259, 257, 246, 247, 233, 293, 236, 264, 272, 252, 255, 272, 242, 258, 232, 224, 245, 249, 242, 249, 265, 264, 291, 249, 276, 257, 239, 259, 266, 252, 239, 246, 245, 227, 288, 259, 248, 272, 268, 244, 240, 281, 268, 240, 232, 245, 243, 258, 237, 265, 245, 244, 245, 252, 256, 247, 261, 246, 275, 233, 239, 263, 282, 234, 229, 265, 259, 277, 243, 254, 247, 243, 246, 248, 256, 270, 242, 219, 247, 271, 272, 242, 269, 247, 266]\n",
            "1000\n"
          ],
          "name": "stdout"
        }
      ]
    },
    {
      "cell_type": "code",
      "metadata": {
        "id": "fQmLMxZtk3Cg",
        "colab": {
          "base_uri": "https://localhost:8080/"
        },
        "outputId": "1fc8b2b2-27ab-4e25-a21e-2661fe2e7464"
      },
      "source": [
        "#34\r\n",
        "import random\r\n",
        "import numpy as np\r\n",
        "dice=range(1,7)\r\n",
        "a=[]\r\n",
        "for i in range(1,1001):\r\n",
        "  cnt=0\r\n",
        "  for j in range(1,361):\r\n",
        "    result=random.choice(dice)\r\n",
        "    if result%3==0:\r\n",
        "      cnt=cnt+1\r\n",
        "  a.append(cnt)\r\n",
        "#print(len(a))\r\n",
        "\r\n",
        "print(round(np.mean(a),0))\r\n",
        "print(round(np.var(a),0))\r\n",
        "print(round(np.std(a),0))"
      ],
      "execution_count": 19,
      "outputs": [
        {
          "output_type": "stream",
          "text": [
            "120.0\n",
            "83.0\n",
            "9.0\n"
          ],
          "name": "stdout"
        }
      ]
    },
    {
      "cell_type": "code",
      "metadata": {
        "colab": {
          "base_uri": "https://localhost:8080/"
        },
        "id": "GuuPBzDbDR-2",
        "outputId": "ce5366fe-3516-48f6-98ea-ce53c25f6f8c"
      },
      "source": [
        "#35\r\n",
        "for i in range(1,11):\r\n",
        "  print(i)"
      ],
      "execution_count": 21,
      "outputs": [
        {
          "output_type": "stream",
          "text": [
            "1\n",
            "2\n",
            "3\n",
            "4\n",
            "5\n",
            "6\n",
            "7\n",
            "8\n",
            "9\n",
            "10\n"
          ],
          "name": "stdout"
        }
      ]
    },
    {
      "cell_type": "code",
      "metadata": {
        "colab": {
          "base_uri": "https://localhost:8080/"
        },
        "id": "Ps7Y3qJQLK9H",
        "outputId": "3e5f86dc-3658-444a-d97e-829a4f73a99e"
      },
      "source": [
        "for i in range(1,11):\r\n",
        "  if i == 5:\r\n",
        "    continue\r\n",
        "  print(i)\r\n"
      ],
      "execution_count": 23,
      "outputs": [
        {
          "output_type": "stream",
          "text": [
            "1\n",
            "2\n",
            "3\n",
            "4\n",
            "6\n",
            "7\n",
            "8\n",
            "9\n",
            "10\n"
          ],
          "name": "stdout"
        }
      ]
    },
    {
      "cell_type": "code",
      "metadata": {
        "colab": {
          "base_uri": "https://localhost:8080/"
        },
        "id": "3fYbWsv2Lc8Q",
        "outputId": "6364b1ce-d677-4249-c2cc-62a9cc326fee"
      },
      "source": [
        "#37\r\n",
        "for i in range(1,11):\r\n",
        "  if i % 2 ==1:\r\n",
        "    continue\r\n",
        "  print(i)"
      ],
      "execution_count": 29,
      "outputs": [
        {
          "output_type": "stream",
          "text": [
            "2\n",
            "4\n",
            "6\n",
            "8\n",
            "10\n"
          ],
          "name": "stdout"
        }
      ]
    },
    {
      "cell_type": "code",
      "metadata": {
        "colab": {
          "base_uri": "https://localhost:8080/"
        },
        "id": "ykujPeaSLnLs",
        "outputId": "3d308994-97f6-49d2-e855-3b025c37c9b5"
      },
      "source": [
        "#38\r\n",
        "cnt=0\r\n",
        "for i in range(1,11):\r\n",
        "  cnt=cnt+i\r\n",
        "print(cnt)"
      ],
      "execution_count": 32,
      "outputs": [
        {
          "output_type": "stream",
          "text": [
            "55\n"
          ],
          "name": "stdout"
        }
      ]
    },
    {
      "cell_type": "code",
      "metadata": {
        "id": "fw8ZAJPDL8aN"
      },
      "source": [
        "#39\r\n",
        "a=int(input('숫자를 입력하세요'))\r\n",
        "for i in range(1,101):\r\n",
        "  print(i)\r\n",
        "  if i == a :\r\n",
        "    break\r\n",
        "  "
      ],
      "execution_count": null,
      "outputs": []
    },
    {
      "cell_type": "code",
      "metadata": {
        "id": "IYarlDL2Mgvx"
      },
      "source": [
        "#41\r\n",
        "a=int(input('숫자를 입력하세요'))\r\n",
        "for i in range(1,a+1):\r\n",
        "  print(i)"
      ],
      "execution_count": null,
      "outputs": []
    },
    {
      "cell_type": "code",
      "metadata": {
        "id": "rgy9tWz1M7Wt"
      },
      "source": [
        "#42\r\n",
        "a=int(input('숫자를 입력하세요'))\r\n",
        "for i in range(1,a+1):\r\n",
        "  print(i)\r\n",
        "else:\r\n",
        "  print('perfect')"
      ],
      "execution_count": null,
      "outputs": []
    },
    {
      "cell_type": "code",
      "metadata": {
        "colab": {
          "base_uri": "https://localhost:8080/"
        },
        "id": "VzcFepqsNwOt",
        "outputId": "faeffd35-2f96-477a-99dc-20ec17f2e8dc"
      },
      "source": [
        "#43\r\n",
        "a=int(input('숫자를 입력하세요'))\r\n",
        "b=int(input(\"중단할 숫자를 입력하세요\"))\r\n",
        "for i in range (1,a+1):\r\n",
        "  print(i)\r\n",
        "  if i ==5:\r\n",
        "    break\r\n"
      ],
      "execution_count": 49,
      "outputs": [
        {
          "output_type": "stream",
          "text": [
            "숫자를 입력하세요10\n",
            "중단할 숫자를 입력하세요5\n",
            "1\n",
            "2\n",
            "3\n",
            "4\n",
            "5\n"
          ],
          "name": "stdout"
        }
      ]
    },
    {
      "cell_type": "code",
      "metadata": {
        "colab": {
          "base_uri": "https://localhost:8080/"
        },
        "id": "m0oUrT70OXiT",
        "outputId": "51757458-29a8-4225-cd36-e122c70f62ec"
      },
      "source": [
        "#44\r\n",
        "a=int(input('숫자를 입력하세요'))\r\n",
        "x=0\r\n",
        "while x<a:\r\n",
        "  x=x+1\r\n",
        "  print(x*'★')"
      ],
      "execution_count": 59,
      "outputs": [
        {
          "output_type": "stream",
          "text": [
            "숫자를 입력하세요5\n",
            "★\n",
            "★★\n",
            "★★★\n",
            "★★★★\n",
            "★★★★★\n"
          ],
          "name": "stdout"
        }
      ]
    },
    {
      "cell_type": "code",
      "metadata": {
        "colab": {
          "base_uri": "https://localhost:8080/"
        },
        "id": "fs4RA9HYPn3k",
        "outputId": "0dc9a06d-bbd7-4cb6-9fed-faaa0c99cc84"
      },
      "source": [
        "#45\r\n",
        "b=int(input('숫자를 입력하세요'))\r\n",
        "while b>0:\r\n",
        "  print(b*'★')\r\n",
        "  b=b-1\r\n"
      ],
      "execution_count": 62,
      "outputs": [
        {
          "output_type": "stream",
          "text": [
            "숫자를 입력하세요5\n",
            "★★★★★\n",
            "★★★★\n",
            "★★★\n",
            "★★\n",
            "★\n"
          ],
          "name": "stdout"
        }
      ]
    },
    {
      "cell_type": "code",
      "metadata": {
        "colab": {
          "base_uri": "https://localhost:8080/"
        },
        "id": "tFf8tnAOQLF7",
        "outputId": "bf1775be-4645-4c0e-8c6d-ab243ce82aac"
      },
      "source": [
        "#49\r\n",
        "print(3**2)\r\n"
      ],
      "execution_count": 64,
      "outputs": [
        {
          "output_type": "stream",
          "text": [
            "9\n"
          ],
          "name": "stdout"
        }
      ]
    },
    {
      "cell_type": "code",
      "metadata": {
        "colab": {
          "base_uri": "https://localhost:8080/"
        },
        "id": "mfd7QedzQhm4",
        "outputId": "896e25c1-66dc-4345-9081-5ee806c2c286"
      },
      "source": [
        "#50\r\n",
        "import math\r\n",
        "print(math.sqrt(4))"
      ],
      "execution_count": 66,
      "outputs": [
        {
          "output_type": "stream",
          "text": [
            "2.0\n"
          ],
          "name": "stdout"
        }
      ]
    },
    {
      "cell_type": "code",
      "metadata": {
        "colab": {
          "base_uri": "https://localhost:8080/"
        },
        "id": "LHtCVosVQkpU",
        "outputId": "156b8529-9eaf-442a-b637-76ba6883dee8"
      },
      "source": [
        "#51\r\n",
        "# monte carlo using random.uniform\r\n",
        "import random\r\n",
        "print(random.uniform(0,1))\r\n",
        "\r\n",
        "cnt=0\r\n",
        "for i in range(1,10001):\r\n",
        "  result1=random.uniform(0,1)\r\n",
        "  result2=random.uniform(0,1)\r\n",
        "  if (result1**2)+(result2**2)<=1:\r\n",
        "    cnt=cnt+1\r\n",
        "print(cnt/10000*4)"
      ],
      "execution_count": 72,
      "outputs": [
        {
          "output_type": "stream",
          "text": [
            "0.6829841126047836\n",
            "3.1388\n"
          ],
          "name": "stdout"
        }
      ]
    },
    {
      "cell_type": "code",
      "metadata": {
        "colab": {
          "base_uri": "https://localhost:8080/"
        },
        "id": "asbUDP-rRPYb",
        "outputId": "4f471388-3f59-46b8-dc3e-dce6e5733788"
      },
      "source": [
        "#52\r\n",
        "c1=complex(1,-2)\r\n",
        "result=c1**2-2*c1-12\r\n",
        "print(result)"
      ],
      "execution_count": 73,
      "outputs": [
        {
          "output_type": "stream",
          "text": [
            "(-17+0j)\n"
          ],
          "name": "stdout"
        }
      ]
    }
  ]
}