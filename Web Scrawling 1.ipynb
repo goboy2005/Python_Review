{
 "cells": [
  {
   "cell_type": "code",
   "execution_count": 17,
   "metadata": {},
   "outputs": [
    {
     "name": "stdout",
     "output_type": "stream",
     "text": [
      "100000\n",
      "100000\n",
      "1000\n",
      "2000\n",
      "100\n",
      "100\n",
      "80\n",
      "50\n"
     ]
    }
   ],
   "source": [
    "from bs4 import BeautifulSoup\n",
    "f=open(\"c:\\\\data\\\\ecologicalpyramid.html\")\n",
    "soup=BeautifulSoup(f,'html.parser')\n",
    "result=soup.find_all(class_='number')\n",
    "for i in result:\n",
    "    print(i.get_text())"
   ]
  },
  {
   "cell_type": "code",
   "execution_count": 4,
   "metadata": {},
   "outputs": [],
   "source": [
    "f=open(\"c:\\\\data\\\\ecologicalpyramid.html\")"
   ]
  },
  {
   "cell_type": "code",
   "execution_count": 9,
   "metadata": {},
   "outputs": [],
   "source": [
    "soup=BeautifulSoup(f,'html.parser')"
   ]
  },
  {
   "cell_type": "code",
   "execution_count": 11,
   "metadata": {},
   "outputs": [],
   "source": [
    "result=soup.find_all(class_='number')"
   ]
  },
  {
   "cell_type": "code",
   "execution_count": 18,
   "metadata": {},
   "outputs": [
    {
     "name": "stdout",
     "output_type": "stream",
     "text": [
      "100000\n",
      "100000\n",
      "1000\n",
      "2000\n",
      "100\n",
      "100\n",
      "80\n",
      "50\n"
     ]
    }
   ],
   "source": [
    "for i in result:\n",
    "    print(i.get_text())"
   ]
  },
  {
   "cell_type": "code",
   "execution_count": 21,
   "metadata": {},
   "outputs": [
    {
     "name": "stdout",
     "output_type": "stream",
     "text": [
      "['100000', '100000', '1000', '2000', '100', '100', '80', '50']\n"
     ]
    }
   ],
   "source": [
    "from bs4 import BeautifulSoup\n",
    "f=open(\"c:\\\\data\\\\ecologicalpyramid.html\")\n",
    "soup=BeautifulSoup(f,'html.parser')\n",
    "result=soup.find_all(class_='number')\n",
    "a=[]\n",
    "for i in result:\n",
    "    a.append(i.get_text())\n",
    "print(a)"
   ]
  },
  {
   "cell_type": "code",
   "execution_count": 22,
   "metadata": {},
   "outputs": [],
   "source": [
    "f=open(\"c:\\\\data\\\\배구학폭.html\",encoding=\"UTF8\")"
   ]
  },
  {
   "cell_type": "code",
   "execution_count": 25,
   "metadata": {},
   "outputs": [],
   "source": [
    "soup=BeautifulSoup(f,\"html.parser\")"
   ]
  },
  {
   "cell_type": "code",
   "execution_count": 28,
   "metadata": {},
   "outputs": [],
   "source": [
    "f=open(\"c:\\\\data\\\\배구학폭.html\",encoding=\"UTF8\")"
   ]
  },
  {
   "cell_type": "code",
   "execution_count": 29,
   "metadata": {},
   "outputs": [],
   "source": [
    "soup=BeautifulSoup(f,\"html.parser\")"
   ]
  },
  {
   "cell_type": "code",
   "execution_count": 30,
   "metadata": {},
   "outputs": [],
   "source": [
    "result=soup.find_all(class_='article_body mg fs4')"
   ]
  },
  {
   "cell_type": "code",
   "execution_count": 31,
   "metadata": {},
   "outputs": [
    {
     "name": "stdout",
     "output_type": "stream",
     "text": [
      "\n",
      "     이재영(左), 이다영(右)         “다시는 TV에서 보고 싶지 않습니다.”        이재영·다영 사과에도 추가 폭로“견디다 못해 옆산 통해 도망갔다”송명근·심경섭도 “폭력 잘못 시인”“젊은 세대 도덕 기준 더 명확해져”   자신의 ‘최애’(최고로 좋아하는 선수)였던 배구선수 이다영이 학교폭력 가해자였다는 사실이 밝혀지자 직장인 이모(35)씨는 이렇게 말했다. 이씨는 “나도 학창시절 한 친구에게 집요하게 학폭을 당했던 상처가 있다”며 “이다영 선수의 과거를 알고 그때의 끔찍한 감정이 다시 도졌다”고 했다.           배구 스타인 이재영·다영 쌍둥이 자매는 지난 10일 초등·중학교 배구부에서 함께 활동한 동료들을 폭행하고 괴롭혔다는 폭로에 “철없었던 지난날 저질렀던 행동”이라며 자필 사과문을 공개했지만 추가 폭로와 비판이 이어지고 있다. 13일에는 중학교 시절 선수생활을 함께했다는 또 다른 피해자가 인터넷에 “더 이상 이곳(기숙사)에서 같이 생활할 수 없어 1년 반 만에 옆 산을 통해 도망가게 됐다”며 “저는 단지 배구를 하고 싶었던 것이지 운동시간을 빼앗기면서 누군가를 서포트하려고 배구한 것이 아니다”고 토로했다. 14일에는 피해자 학부모라고 주장하는 이가 이 자매의 소속사인 흥국생명과 대한배구협회, 대한체육회를 사태의 방관자라고 비판하는 글을 올렸다.           이에 “이 자매를 퇴출해야 한다”는 여론이 수그러들지 않고 있다. 퇴출에 동의한다는 진모(22·여)씨는 “학폭 가해자가 인생을 날리는 걸 보여줘야 일벌백계가 된다”며 “적어도 TV에서만큼은 보이지 않아야 한다”고 말했다.              송명근(左), 심경섭(右)         OK금융그룹 소속 배구 남자 선수 송명근과 심경섭의 학교폭력 전력도 폭로됐다. 13일 과거 피해를 공개한 이는 “폭력은 세월이 흘러도 정당화될 수 없다는 말이 힘이 됐다”고 했다. 이는 앞서 이 자매에게 폭행을 당한 피해자가 했던 말이다. 송명근은 14일 자신의 인스타그램에 “전부 시인한다”며 “결코 용서받을 수 없는 행위를 저지른 것이 맞다”고 밝혔다. 그는 자숙하는 의미로 “경기에 나서지 않겠다”고도 했다.              박경(左), 진달래(右)         스포츠 스타뿐 아니라 유명인의 과거 학교폭력 가해는 꾸준히 논란이 돼왔다. 지난해 아이돌그룹 블락비의 멤버 박경이 중학생 시절 저질렀던 학교폭력에 대해 사과했다. 박경은 폭로가 나오기 전 학교폭력 예방 홍보 영상을 촬영해 여론의 비판을 받았다.             또한 이원일 셰프는 아내 김유진 PD의 학교폭력 폭로가 나오자 “죄책감을 가지며, 방송 활동을 모두 중단한다”고 밝혔다. 지난달에는 TV조선 ‘미스트롯 2’에 출연한 가수 진달래가 학교폭력 폭로로 프로그램에서 중도 하차했다.           최근 유명인들의 학교폭력 전력이 공개되는 현상에 대해 전문가들은 젊은 세대가 그들에게 원하는 도덕적 기준이 높아졌기 때문이라고 진단했다. 여기에 과거에는 묻혔던 약자의 목소리가 소셜네트워크서비스(SNS)의 발달로 언제든 폭발할 수 있는 토양도 마련됐다.           체육 철학자인 김정효 서울대 외래교수는 “지금 젊은 세대의 도덕성에 대한 잣대가 더 명확해졌다”며 “조국, 윤미향 사태 등 정치권에서도 도덕성 시비가 끊임없이 일어난다. ‘학창시절 날 때린 애가 스타가 된 걸 보면, 제대로 된 사회인가’라고 생각할 수 있다”고 말했다.             하재근 문화평론가는 “학폭 가해자가 버젓이 TV에 나온다는 것은 우리 사회가 그 문제를 가볍게 여기거나 면죄부를 준다는 신호로 보일 수도 있다”며 “가해자가 스스로 스포트라이트를 받는 자리를 피하는 것이 도리”라고 강조했다.            편광현·김효경·박린 기자 pyun.gwanghyun@joongang.co.kr  \n",
      "\n",
      "\n",
      "\n",
      "\n"
     ]
    }
   ],
   "source": [
    "for i in result:\n",
    "    print(i.get_text())"
   ]
  },
  {
   "cell_type": "code",
   "execution_count": 32,
   "metadata": {},
   "outputs": [],
   "source": [
    "f=open(\"c:\\\\data\\\\배구학폭.html\",encoding=\"UTF8\")"
   ]
  },
  {
   "cell_type": "code",
   "execution_count": 33,
   "metadata": {},
   "outputs": [],
   "source": [
    "soup=BeautifulSoup(f,\"html.parser\")"
   ]
  },
  {
   "cell_type": "code",
   "execution_count": 34,
   "metadata": {},
   "outputs": [],
   "source": [
    "result=soup.find_all(class_='article_body mg fs4')"
   ]
  },
  {
   "cell_type": "code",
   "execution_count": 36,
   "metadata": {},
   "outputs": [],
   "source": [
    "a=[]\n",
    "for i in result:\n",
    "    a.append(i.get_text())"
   ]
  },
  {
   "cell_type": "code",
   "execution_count": 39,
   "metadata": {},
   "outputs": [
    {
     "name": "stdout",
     "output_type": "stream",
     "text": [
      "1\n"
     ]
    }
   ],
   "source": [
    "print(len(a))"
   ]
  },
  {
   "cell_type": "code",
   "execution_count": 47,
   "metadata": {},
   "outputs": [],
   "source": [
    "h=open('c:\\\\data\\\\mytext50.txt','w')\n",
    "h.write(str(a))\n",
    "h.close()"
   ]
  },
  {
   "cell_type": "code",
   "execution_count": 108,
   "metadata": {},
   "outputs": [
    {
     "name": "stdout",
     "output_type": "stream",
     "text": [
      "2015.09.02 11:34 헐~ 대박  넘 잼있어요!    본방 재방 삼~빵   보구 또 볼꺼에요! ^^  미라큘러 레이디버그  홧팅!\n",
      "2015.09.02 11:25 넘넘 재미있게 잘 보았습니다.\n",
      "2015.09.01 23:07 대학생인데도 너무 재밌게 봤어요ㅠㅠ 캐릭터들이 정말 매력적으로 잘 나왔더라구요... 특히 구도나 모션들이 기존 애니메이션들과는 달라서 신선하고 재밌었어요! 챙겨봐야겠어요ㅎ///ㅎ\n",
      "2015.09.01 20:57 저희딸들 한번보고 빠져들었네요\n",
      "2015.09.01 20:26 딸아이가 예고편보며 화요일 7시에 한다며 시계를 보더니 7시다! 야호!를 외치며... 함께 시청... 재밌게 보고 퀴즈도 응모해 봅니다.^^ 딸아이가 3번 무당벌레 래여...ㅎㅎ\n",
      "2015.09.01 19:25 정답3번 무당벌레. 가을개편 예고보다가 아이들과 같이 시청했는데,아이들이 너무 좋아하네요.캐릭터도 신선하고, 다음방송도 기억하고 기다릴께요..^^\n",
      "2015.09.01 19:18 정답은 3번 무당벌레에요! 꼭 뽑히면 좋겠어요.\n",
      "2015.08.31 17:23 울 아들 심쿵 하는 미라큘러스 레이디버그 9/1 첫방영 부터 열심히 본방사수 할께용~ ^^\n",
      "2015.08.31 08:37 무당벌레를 좋아하는 딸이라~ 예고를 보더니 푹 빠졌어요~ 언제하는거냐고 엄청기다립니다. 본방은 힘들것 같아 재방으로 시작할께요~^^\n",
      "2015.08.31 06:31 무당벌레를 연상시키는 레이디버그~제가 여군출신이라 그런지...아이들보다 제가 더 기대되네요^^\n",
      "2015.08.29 21:02 작년부터 기대되는 작품 인기많은 작품이 되었으면 합니다.\n",
      "11\n"
     ]
    }
   ],
   "source": [
    "import urllib.request\n",
    "\n",
    "for  i  in  range(1, 23):     # 페이지 번호를 1번부터 22번까지 변경하려고 for 을 사용 \n",
    "    list_url = 'http://home.ebs.co.kr/ladybug/board/6/10059819/oneBoardList?c.page=' + str(i) + '&hmpMnuId=106&searchKeywordValue=0&bbsId=10059819&searchKeyword=&searchCondition=&searchConditionValue=0&'\n",
    "\n",
    "url=urllib.request.Request(list_url)\n",
    "result=urllib.request.urlopen(url).read().decode('utf-8')\n",
    "soup=BeautifulSoup(result,'html.parser')\n",
    "\n",
    "result1=soup.find_all('span', class_='date')\n",
    "result2=soup.find_all('p', class_='con')\n",
    "\n",
    "params1=[]\n",
    "params2=[]\n",
    "\n",
    "for i in result1:\n",
    "    params1.append(i.get_text(\" \",strip=True))\n",
    "for i in result2:\n",
    "    params2.append(i.get_text(\" \",strip=True))\n",
    "\n",
    "for k,h in zip(params1,params2):\n",
    "    print(k+' '+h )\n",
    "    \n",
    "print(len(params2))"
   ]
  },
  {
   "cell_type": "code",
   "execution_count": 110,
   "metadata": {},
   "outputs": [],
   "source": [
    "from  bs4  import  BeautifulSoup\n",
    "import  urllib.request   \n",
    "\n",
    "params1 = []\n",
    "params2 = []                   \n",
    "\n",
    "f = open('c:\\\\data\\\\mytext80.txt', 'w', encoding='UTF8')\n",
    "\n",
    "for  i  in  range(1, 23):\n",
    "    list_url = 'http://home.ebs.co.kr/ladybug/board/6/10059819/oneBoardList?c.page=' +str(i) + '&hmpMnuId=106&searchKeywordValue=0&bbsId=10059819&searchKeyword=&searchCondition=&searchConditionValue=0&'\n",
    "    \n",
    "url = urllib.request.Request(list_url)                                               \n",
    "result = urllib.request.urlopen(url).read().decode(\"utf-8\") \n",
    "soup = BeautifulSoup( result, \"html.parser\")\n",
    "    \n",
    "\n",
    "\n",
    "result1 = soup.find_all( 'span', class_ ='date')\n",
    "result2 = soup.find_all( 'p',  class_ ='con') \n",
    "     \n",
    "\n",
    "\n",
    "for  i  in  result1:\n",
    "    params1.append( i.get_text(\"  \", strip=True) )\n",
    "for  i  in  result2:\n",
    "    params2.append( i.get_text(\"  \", strip=True) )\n",
    "          \n",
    "\n",
    "for   k,  h   in   zip(  params1,  params2 ):\n",
    "    f.write ( k + '   '  + h + '\\n' ) \n",
    "\n",
    "f.close()\n"
   ]
  }
 ],
 "metadata": {
  "kernelspec": {
   "display_name": "Python 3",
   "language": "python",
   "name": "python3"
  },
  "language_info": {
   "codemirror_mode": {
    "name": "ipython",
    "version": 3
   },
   "file_extension": ".py",
   "mimetype": "text/x-python",
   "name": "python",
   "nbconvert_exporter": "python",
   "pygments_lexer": "ipython3",
   "version": "3.8.5"
  }
 },
 "nbformat": 4,
 "nbformat_minor": 4
}
