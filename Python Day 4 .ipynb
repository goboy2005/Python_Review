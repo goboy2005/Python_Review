{
  "nbformat": 4,
  "nbformat_minor": 0,
  "metadata": {
    "colab": {
      "name": "Python Day 4.ipynb",
      "provenance": [],
      "authorship_tag": "ABX9TyM33AF/ic0twHFHSnT0B8bP",
      "include_colab_link": true
    },
    "kernelspec": {
      "name": "python3",
      "display_name": "Python 3"
    }
  },
  "cells": [
    {
      "cell_type": "markdown",
      "metadata": {
        "id": "view-in-github",
        "colab_type": "text"
      },
      "source": [
        "<a href=\"https://colab.research.google.com/github/goboy2005/Python_Review/blob/main/Python%20Day%204%20.ipynb\" target=\"_parent\"><img src=\"https://colab.research.google.com/assets/colab-badge.svg\" alt=\"Open In Colab\"/></a>"
      ]
    },
    {
      "cell_type": "code",
      "metadata": {
        "colab": {
          "base_uri": "https://localhost:8080/"
        },
        "id": "4CLvXGN_giBL",
        "outputId": "f23ecd8f-dcc0-4ac9-c5cf-15c5b53f3c04"
      },
      "source": [
        "#87\r\n",
        "a='scott'\r\n",
        "print(type(a))"
      ],
      "execution_count": 2,
      "outputs": [
        {
          "output_type": "stream",
          "text": [
            "<class 'str'>\n"
          ],
          "name": "stdout"
        }
      ]
    },
    {
      "cell_type": "code",
      "metadata": {
        "colab": {
          "base_uri": "https://localhost:8080/"
        },
        "id": "5-o_bY5Vgvtf",
        "outputId": "64729b3f-31cc-4b75-94fe-866002c355a3"
      },
      "source": [
        "#88\r\n",
        "\r\n",
        "b = 'smith'  \r\n",
        "print(type(b))\r\n",
        "print(a[2])\r\n",
        "print(b[-1])\r\n"
      ],
      "execution_count": 7,
      "outputs": [
        {
          "output_type": "stream",
          "text": [
            "<class 'str'>\n",
            "o\n",
            "h\n"
          ],
          "name": "stdout"
        }
      ]
    },
    {
      "cell_type": "code",
      "metadata": {
        "colab": {
          "base_uri": "https://localhost:8080/"
        },
        "id": "2zW3W7g9g3yh",
        "outputId": "64878074-6937-439f-c27d-86a70617956f"
      },
      "source": [
        "#89\r\n",
        "a=[1,2,3]\r\n",
        "b=a*3\r\n",
        "print(b)"
      ],
      "execution_count": 9,
      "outputs": [
        {
          "output_type": "stream",
          "text": [
            "[1, 2, 3, 1, 2, 3, 1, 2, 3]\n"
          ],
          "name": "stdout"
        }
      ]
    },
    {
      "cell_type": "code",
      "metadata": {
        "colab": {
          "base_uri": "https://localhost:8080/"
        },
        "id": "DrmWV88UhNxs",
        "outputId": "c56222c8-fdf0-46c3-b6e1-0f85490d8d30"
      },
      "source": [
        "#100\r\n",
        "dice=[1,2,3,4,5,6]\r\n",
        "dice_100=dice*100\r\n",
        "print(len(dice_100))\r\n"
      ],
      "execution_count": 13,
      "outputs": [
        {
          "output_type": "stream",
          "text": [
            "600\n"
          ],
          "name": "stdout"
        }
      ]
    },
    {
      "cell_type": "code",
      "metadata": {
        "colab": {
          "base_uri": "https://localhost:8080/"
        },
        "id": "BDxQUTDthRoG",
        "outputId": "a32d252d-a8e8-478c-ff27-d624d06cfa1c"
      },
      "source": [
        "#101\r\n",
        "tall = [ 129.3,  130.2, 132.5, 134.7, 136.3, 137.8,  138.1, 140.2, 142.3, 145.2] \r\n",
        "tall_10000=tall*10000\r\n",
        "print(len(tall_10000))"
      ],
      "execution_count": 17,
      "outputs": [
        {
          "output_type": "stream",
          "text": [
            "100000\n"
          ],
          "name": "stdout"
        }
      ]
    },
    {
      "cell_type": "code",
      "metadata": {
        "colab": {
          "base_uri": "https://localhost:8080/"
        },
        "id": "8DmtI8-rhlsv",
        "outputId": "3811bd61-3408-4abc-a0b3-b3ad84da51ad"
      },
      "source": [
        "#103\r\n",
        "import numpy as np\r\n",
        "\r\n",
        "print(np.mean(tall_10000))\r\n",
        "print(np.var(tall_10000))\r\n",
        "print(np.std(tall_10000))"
      ],
      "execution_count": 23,
      "outputs": [
        {
          "output_type": "stream",
          "text": [
            "136.66\n",
            "23.782399999999985\n",
            "4.876720209321013\n"
          ],
          "name": "stdout"
        }
      ]
    },
    {
      "cell_type": "code",
      "metadata": {
        "colab": {
          "base_uri": "https://localhost:8080/"
        },
        "id": "KmY8e9aUhyvV",
        "outputId": "6d5c2737-5cf2-4812-f5c3-a9214acc60e8"
      },
      "source": [
        "#104\r\n",
        "import random\r\n",
        "a=[]\r\n",
        "for i in range(1,21):\r\n",
        "  a.append(random.choice(tall_10000))\r\n",
        "print(len(a))\r\n",
        "print(a)"
      ],
      "execution_count": 26,
      "outputs": [
        {
          "output_type": "stream",
          "text": [
            "20\n",
            "[138.1, 137.8, 129.3, 138.1, 138.1, 136.3, 129.3, 138.1, 140.2, 132.5, 136.3, 140.2, 138.1, 134.7, 130.2, 145.2, 134.7, 130.2, 137.8, 134.7]\n"
          ],
          "name": "stdout"
        }
      ]
    },
    {
      "cell_type": "code",
      "metadata": {
        "colab": {
          "base_uri": "https://localhost:8080/"
        },
        "id": "YdUGZ9zliPTs",
        "outputId": "09fe4c99-8fdf-47db-86af-70900f4d9b06"
      },
      "source": [
        "#105\r\n",
        "print(np.mean(a))\r\n",
        "print(np.var(a))\r\n",
        "print(np.std(a))"
      ],
      "execution_count": 28,
      "outputs": [
        {
          "output_type": "stream",
          "text": [
            "135.99499999999998\n",
            "16.150474999999982\n",
            "4.018765357668943\n"
          ],
          "name": "stdout"
        }
      ]
    },
    {
      "cell_type": "code",
      "metadata": {
        "colab": {
          "base_uri": "https://localhost:8080/"
        },
        "id": "WD6Om58WieM4",
        "outputId": "ebea2376-df45-433e-cc9f-bf85b7dbaeef"
      },
      "source": [
        "#107\r\n",
        "listdata = [ 1, 2, 3, 4 ]\r\n",
        "\r\n",
        "a= 5 in listdata\r\n",
        "b= 4 in listdata\r\n",
        "print(a)\r\n",
        "print(b)"
      ],
      "execution_count": 34,
      "outputs": [
        {
          "output_type": "stream",
          "text": [
            "False\n",
            "True\n"
          ],
          "name": "stdout"
        }
      ]
    },
    {
      "cell_type": "code",
      "metadata": {
        "colab": {
          "base_uri": "https://localhost:8080/"
        },
        "id": "YWdGJclTizJj",
        "outputId": "78b2732f-7bf5-46b6-85ca-6c958e1728af"
      },
      "source": [
        "#107\r\n",
        "\r\n",
        "avg=30\r\n",
        "std=7\r\n",
        "N=1000000\r\n",
        "\r\n",
        "mogipdan=np.random.randn(N) * std+avg \r\n",
        "print(len(mogipdan))\r\n",
        "#print(mogipdan)\r\n",
        "\r\n",
        "print(np.mean(mogipdan))\r\n",
        "print(np.var(mogipdan))\r\n",
        "print(np.std(mogipdan))\r\n"
      ],
      "execution_count": 45,
      "outputs": [
        {
          "output_type": "stream",
          "text": [
            "1000000\n",
            "30.009557057864516\n",
            "48.92462623288149\n",
            "6.994614087487707\n"
          ],
          "name": "stdout"
        }
      ]
    },
    {
      "cell_type": "code",
      "metadata": {
        "colab": {
          "base_uri": "https://localhost:8080/"
        },
        "id": "HhZsP_OtjT_B",
        "outputId": "ddb76300-3126-4498-c204-24135e5452d1"
      },
      "source": [
        "#111\r\n",
        "a=\"\"\" \"모집단\" 의 평균은 \"\"\"\r\n",
        "print(a)\r\n",
        "b=\"\"\" \"모집단\" 의 분산은 \"\"\"\r\n",
        "print(b)\r\n",
        "c=\"\"\" \"모집단\" 의 표준편차는 \"\"\" \r\n",
        "print(c)"
      ],
      "execution_count": 83,
      "outputs": [
        {
          "output_type": "stream",
          "text": [
            " \"모집단\" 의 평균은 \n",
            " \"모집단\" 의 분산은 \n",
            " \"모집단\" 의 표준편차는 \n"
          ],
          "name": "stdout"
        }
      ]
    },
    {
      "cell_type": "code",
      "metadata": {
        "colab": {
          "base_uri": "https://localhost:8080/"
        },
        "id": "AbL2AOrPkFCH",
        "outputId": "2032280d-c2a5-4b5b-83b6-eb34482d0a97"
      },
      "source": [
        "#112\r\n",
        "mean=30\r\n",
        "std=7\r\n",
        "N=100000\r\n",
        "\r\n",
        "mogipdan=np.random.randn(N) * std+avg\r\n",
        "print(mogipdan)\r\n",
        "\r\n",
        "\r\n",
        "print(a, round(np.mean(mogipdan),0))\r\n",
        "print(b,np.var(mogipdan))\r\n",
        "print(c,np.std(mogipdan))"
      ],
      "execution_count": 86,
      "outputs": [
        {
          "output_type": "stream",
          "text": [
            "[30.9355736  20.07971575 39.046402   ... 26.66002462 18.03808611\n",
            " 27.85352281]\n",
            " \"모집단\" 의 평균은  30.0\n",
            " \"모집단\" 의 분산은  48.68866595111761\n",
            " \"모집단\" 의 표준편차는  6.9777264170442805\n"
          ],
          "name": "stdout"
        }
      ]
    },
    {
      "cell_type": "code",
      "metadata": {
        "colab": {
          "base_uri": "https://localhost:8080/"
        },
        "id": "e3V4KBp_lOOe",
        "outputId": "0638dce3-05e5-40c5-8fec-007209299d18"
      },
      "source": [
        "#113\r\n",
        "import numpy as np\r\n",
        "z=[]\r\n",
        "for i in range(1,50):\r\n",
        "  result=random.choice(mogipdan)\r\n",
        "  z.append(result)\r\n",
        "print(len(z))\r\n",
        "print(z)\r\n",
        "\r\n",
        "print()\r\n",
        "\r\n",
        "print(np.mean(z))\r\n",
        "print(np.var(z))\r\n",
        "print(np.std(z))"
      ],
      "execution_count": 93,
      "outputs": [
        {
          "output_type": "stream",
          "text": [
            "49\n",
            "[28.46757601228829, 28.121327975152163, 23.268138361109884, 34.55102149506739, 26.90029835073257, 27.7116990632234, 33.22864368791458, 16.991977957533216, 25.49034694994746, 37.18394904714567, 31.029544471319948, 27.082406556558965, 20.60538695454131, 35.706949032014066, 30.353649762153132, 19.47367551325473, 21.012177995736216, 29.558981162597256, 31.74964682367973, 22.27604794528563, 34.104543098480406, 25.023360056889974, 32.54057414369485, 24.95258047806886, 38.95011408098108, 27.47578863922441, 34.92076449436196, 20.484543632005913, 28.611731494027428, 20.817181367015706, 20.20505906518692, 29.113505670549817, 21.524882305016003, 31.137185777088956, 38.546653383152645, 27.768513229717133, 23.6403074548693, 18.246077269716388, 20.540565703622, 29.32983991553931, 37.04268952949193, 35.042190073123265, 26.325141330765486, 23.921288440067826, 31.8832627102723, 28.02651693281131, 38.52664972354282, 37.87413341186889, 30.65617453433849]\n",
            "\n",
            "28.32643394005606\n",
            "35.33887844116269\n",
            "5.944651246386342\n"
          ],
          "name": "stdout"
        }
      ]
    },
    {
      "cell_type": "code",
      "metadata": {
        "colab": {
          "base_uri": "https://localhost:8080/"
        },
        "id": "gLEaHneNmWPw",
        "outputId": "81c170fd-1e86-4e1c-b8d3-cfe80b9d2ef9"
      },
      "source": [
        "#114\r\n",
        "import random\r\n",
        "a=[]\r\n",
        "for i in range(1,101):\r\n",
        "  result=np.random.choice(mogipdan,49).mean()\r\n",
        "  a.append(result)\r\n",
        "print(len(a))\r\n",
        "print(np.mean(a))\r\n",
        "print(np.std(a))\r\n",
        "print(np.var(a))\r\n"
      ],
      "execution_count": 117,
      "outputs": [
        {
          "output_type": "stream",
          "text": [
            "100\n",
            "29.985723328054302\n",
            "1.04785489785276\n",
            "1.0979998869540182\n"
          ],
          "name": "stdout"
        }
      ]
    },
    {
      "cell_type": "code",
      "metadata": {
        "colab": {
          "base_uri": "https://localhost:8080/"
        },
        "id": "UFRydUL2nCPp",
        "outputId": "f9aeabf8-e7f9-410d-978b-dc1b60cabfad"
      },
      "source": [
        "txt='자바'\r\n",
        "txt2='파이썬'\r\n",
        "num1=5\r\n",
        "print( \"나는 %s 보다 %s에 익숙합니다\" %(txt,txt2) )\r\n",
        "print( \"숫자 %d 보다 %s가 더크다 \" %(num1,txt))\r\n",
        "\r\n"
      ],
      "execution_count": 110,
      "outputs": [
        {
          "output_type": "stream",
          "text": [
            "나는 자바 보다 파이썬에 익숙합니다\n",
            "숫자 5 보다 자바가 더크다 \n"
          ],
          "name": "stdout"
        }
      ]
    },
    {
      "cell_type": "code",
      "metadata": {
        "colab": {
          "base_uri": "https://localhost:8080/"
        },
        "id": "wmOHKqv_oXRh",
        "outputId": "73b52758-5703-45ca-8210-5bb236798d2a"
      },
      "source": [
        "num1=5\r\n",
        "num2=10\r\n",
        "print( '숫자 %d 는 숫자 %d 보다 작습니다'  %(num1,num2) )"
      ],
      "execution_count": 112,
      "outputs": [
        {
          "output_type": "stream",
          "text": [
            "숫자 5 는 숫자 10 보다 작습니다\n"
          ],
          "name": "stdout"
        }
      ]
    },
    {
      "cell_type": "code",
      "metadata": {
        "colab": {
          "base_uri": "https://localhost:8080/"
        },
        "id": "qGxFgj_Xokmb",
        "outputId": "1db877e2-0569-493f-a643-6c4832587670"
      },
      "source": [
        "#118\r\n",
        "print(mogipdan)\r\n",
        "\r\n",
        "\r\n",
        "a_1=np.mean(a)\r\n",
        "a_2=np.var(a)\r\n",
        "a_3=np.std(a)\r\n",
        "print( \"모집단의 평균은  %f 이고  모집단의 분산은 %f 이고 모집단은 표준편차는 %f  이다.\" %(a_1,a_2,a_3))"
      ],
      "execution_count": 121,
      "outputs": [
        {
          "output_type": "stream",
          "text": [
            "[29.13818467 29.21187998 25.73981606 ... 33.80258369 30.21128538\n",
            " 20.99754059]\n",
            "모집단의 평균은  30.013455 이고  모집단의 분산은 0.828520 이고 모집단은 표준편차는 0.910231  이다.\n"
          ],
          "name": "stdout"
        }
      ]
    },
    {
      "cell_type": "code",
      "metadata": {
        "colab": {
          "base_uri": "https://localhost:8080/"
        },
        "id": "SVJ3Layypn6F",
        "outputId": "886e5107-b71c-4c07-c350-dc05ff47cafc"
      },
      "source": [
        "#119\r\n",
        "import  numpy  as  np \r\n",
        "\r\n",
        "avg = 30\r\n",
        "std = 7\r\n",
        "N = 1000000\r\n",
        "\r\n",
        "mogipdan = np.random.randn(N) * std + avg \r\n",
        "a = []\r\n",
        "for  i  in   range(1, 101):\r\n",
        "    a.append( np.random.choice( mogipdan , 49).mean() )\r\n",
        "\r\n",
        "print (  '표준평균의 평균값은 %f 이고 분산값은 %f 이고 표준편차값은 %f 입니다'  \r\n",
        "          %(np.mean(a), np.var(a), np.std(a)  )   )  \r\n"
      ],
      "execution_count": 122,
      "outputs": [
        {
          "output_type": "stream",
          "text": [
            "표준평균의 평균값은 29.926394 이고 분산값은 0.770736 이고 표준편차값은 0.877916 입니다\n"
          ],
          "name": "stdout"
        }
      ]
    },
    {
      "cell_type": "code",
      "metadata": {
        "colab": {
          "base_uri": "https://localhost:8080/"
        },
        "id": "5i1mhsZZp6H0",
        "outputId": "278a79e1-4818-4cec-8906-ce88ef26a28b"
      },
      "source": [
        "#120\r\n",
        "avg = 30\r\n",
        "std = 7\r\n",
        "N = 1000000\r\n",
        "\r\n",
        "mogipdan = np.random.randn(N) * std + avg \r\n",
        "a = []\r\n",
        "for  i  in   range(1, 101):\r\n",
        "    a.append( np.random.choice( mogipdan , 49).mean() )\r\n",
        "\r\n",
        "print ( '표준평균의 평균값은 %f 이고 분산값은 %f 이고 표준편차값은 %f 입니다'  \r\n",
        "          %(round(np.mean(a),2), round(np.var(a),2), round(np.std(a),2 )  ))"
      ],
      "execution_count": 129,
      "outputs": [
        {
          "output_type": "stream",
          "text": [
            "표준평균의 평균값은 29.870000 이고 분산값은 1.010000 이고 표준편차값은 1.000000 입니다\n"
          ],
          "name": "stdout"
        }
      ]
    }
  ]
}