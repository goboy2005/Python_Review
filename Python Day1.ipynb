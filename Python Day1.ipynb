{
  "nbformat": 4,
  "nbformat_minor": 0,
  "metadata": {
    "colab": {
      "name": "Python Day 1.ipynb",
      "provenance": [],
      "collapsed_sections": [],
      "mount_file_id": "1jT7uIJXB9rW_Lgo_UaEgs5CpzaP8FHK6",
      "authorship_tag": "ABX9TyNOtk9d3k9U0wLFJCN9+6+P",
      "include_colab_link": true
    },
    "kernelspec": {
      "name": "python3",
      "display_name": "Python 3"
    }
  },
  "cells": [
    {
      "cell_type": "markdown",
      "metadata": {
        "id": "view-in-github",
        "colab_type": "text"
      },
      "source": [
        "<a href=\"https://colab.research.google.com/github/goboy2005/Python_Review/blob/main/PythonDay1.ipynb\" target=\"_parent\"><img src=\"https://colab.research.google.com/assets/colab-badge.svg\" alt=\"Open In Colab\"/></a>"
      ]
    },
    {
      "cell_type": "code",
      "metadata": {
        "id": "qGxMVFHtPgeF"
      },
      "source": [
        "a=1"
      ],
      "execution_count": null,
      "outputs": []
    },
    {
      "cell_type": "code",
      "metadata": {
        "id": "rO3bDly3QG4m"
      },
      "source": [
        "b=2"
      ],
      "execution_count": null,
      "outputs": []
    },
    {
      "cell_type": "code",
      "metadata": {
        "colab": {
          "base_uri": "https://localhost:8080/"
        },
        "id": "7x_MDU98QISm",
        "outputId": "2af08633-7d9e-4d5c-8354-ff26cc9cde91"
      },
      "source": [
        "a+b"
      ],
      "execution_count": null,
      "outputs": [
        {
          "output_type": "execute_result",
          "data": {
            "text/plain": [
              "3"
            ]
          },
          "metadata": {
            "tags": []
          },
          "execution_count": 3
        }
      ]
    },
    {
      "cell_type": "code",
      "metadata": {
        "colab": {
          "base_uri": "https://localhost:8080/"
        },
        "id": "oGJc-QhMQJ5a",
        "outputId": "193e72e8-da2a-46f9-d2dd-987293bbf58c"
      },
      "source": [
        "a=1\r\n",
        "b=2\r\n",
        "a+b"
      ],
      "execution_count": null,
      "outputs": [
        {
          "output_type": "execute_result",
          "data": {
            "text/plain": [
              "3"
            ]
          },
          "metadata": {
            "tags": []
          },
          "execution_count": 4
        }
      ]
    },
    {
      "cell_type": "code",
      "metadata": {
        "colab": {
          "base_uri": "https://localhost:8080/"
        },
        "id": "MRHohEUXQNSI",
        "outputId": "7f4f58c4-1c19-4541-9969-ba50a424610f"
      },
      "source": [
        "for i in[1,2,3,4,5,6]:\r\n",
        "    print(i)"
      ],
      "execution_count": null,
      "outputs": [
        {
          "output_type": "stream",
          "text": [
            "1\n",
            "2\n",
            "3\n",
            "4\n",
            "5\n",
            "6\n"
          ],
          "name": "stdout"
        }
      ]
    },
    {
      "cell_type": "code",
      "metadata": {
        "colab": {
          "base_uri": "https://localhost:8080/"
        },
        "id": "jTKw7AROQUZC",
        "outputId": "987c1775-be5f-4f1c-e5f4-d2fb05ce5627"
      },
      "source": [
        "for i in[2,3,4]:\r\n",
        "    print(i)"
      ],
      "execution_count": null,
      "outputs": [
        {
          "output_type": "stream",
          "text": [
            "2\n",
            "3\n",
            "4\n"
          ],
          "name": "stdout"
        }
      ]
    },
    {
      "cell_type": "code",
      "metadata": {
        "id": "OnD7EJD6Qs_4"
      },
      "source": [
        "import keyword"
      ],
      "execution_count": null,
      "outputs": []
    },
    {
      "cell_type": "code",
      "metadata": {
        "colab": {
          "base_uri": "https://localhost:8080/"
        },
        "id": "pQSKHWHyRA8a",
        "outputId": "e66ca1f4-1636-49ec-a654-da0c46e6f053"
      },
      "source": [
        "print(keyword.kwlist)"
      ],
      "execution_count": null,
      "outputs": [
        {
          "output_type": "stream",
          "text": [
            "['False', 'None', 'True', 'and', 'as', 'assert', 'break', 'class', 'continue', 'def', 'del', 'elif', 'else', 'except', 'finally', 'for', 'from', 'global', 'if', 'import', 'in', 'is', 'lambda', 'nonlocal', 'not', 'or', 'pass', 'raise', 'return', 'try', 'while', 'with', 'yield']\n"
          ],
          "name": "stdout"
        }
      ]
    },
    {
      "cell_type": "code",
      "metadata": {
        "colab": {
          "base_uri": "https://localhost:8080/"
        },
        "id": "eTcHLTcTRCID",
        "outputId": "abea6875-a0df-4b6d-9f71-d9474e0461a1"
      },
      "source": [
        "a=1\r\n",
        "b='scott'\r\n",
        "print(b)"
      ],
      "execution_count": null,
      "outputs": [
        {
          "output_type": "stream",
          "text": [
            "scott\n"
          ],
          "name": "stdout"
        }
      ]
    },
    {
      "cell_type": "code",
      "metadata": {
        "colab": {
          "base_uri": "https://localhost:8080/"
        },
        "id": "uBEKl66FRKyg",
        "outputId": "369750c4-9214-4261-a428-3aff8fbf9229"
      },
      "source": [
        "import this"
      ],
      "execution_count": null,
      "outputs": [
        {
          "output_type": "stream",
          "text": [
            "The Zen of Python, by Tim Peters\n",
            "\n",
            "Beautiful is better than ugly.\n",
            "Explicit is better than implicit.\n",
            "Simple is better than complex.\n",
            "Complex is better than complicated.\n",
            "Flat is better than nested.\n",
            "Sparse is better than dense.\n",
            "Readability counts.\n",
            "Special cases aren't special enough to break the rules.\n",
            "Although practicality beats purity.\n",
            "Errors should never pass silently.\n",
            "Unless explicitly silenced.\n",
            "In the face of ambiguity, refuse the temptation to guess.\n",
            "There should be one-- and preferably only one --obvious way to do it.\n",
            "Although that way may not be obvious at first unless you're Dutch.\n",
            "Now is better than never.\n",
            "Although never is often better than *right* now.\n",
            "If the implementation is hard to explain, it's a bad idea.\n",
            "If the implementation is easy to explain, it may be a good idea.\n",
            "Namespaces are one honking great idea -- let's do more of those!\n"
          ],
          "name": "stdout"
        }
      ]
    },
    {
      "cell_type": "code",
      "metadata": {
        "id": "uRmp7sYQROAC"
      },
      "source": [
        "b='scott'"
      ],
      "execution_count": null,
      "outputs": []
    },
    {
      "cell_type": "code",
      "metadata": {
        "colab": {
          "base_uri": "https://localhost:8080/"
        },
        "id": "_2-I4qTqRR8a",
        "outputId": "b7b90c8f-7411-4b0e-dfcb-b1744fc0ebb6"
      },
      "source": [
        "print(type(b))"
      ],
      "execution_count": null,
      "outputs": [
        {
          "output_type": "stream",
          "text": [
            "<class 'str'>\n"
          ],
          "name": "stdout"
        }
      ]
    },
    {
      "cell_type": "code",
      "metadata": {
        "colab": {
          "base_uri": "https://localhost:8080/"
        },
        "id": "Poks-lwKRTaf",
        "outputId": "c3a32962-7cd5-4329-f078-08c1cd503f7c"
      },
      "source": [
        "a=2\r\n",
        "print(type(a))"
      ],
      "execution_count": null,
      "outputs": [
        {
          "output_type": "stream",
          "text": [
            "<class 'int'>\n"
          ],
          "name": "stdout"
        }
      ]
    },
    {
      "cell_type": "code",
      "metadata": {
        "id": "Cj1jlkpYRW4u"
      },
      "source": [
        "mmm=['a','b','c','d','e','k']"
      ],
      "execution_count": null,
      "outputs": []
    },
    {
      "cell_type": "code",
      "metadata": {
        "colab": {
          "base_uri": "https://localhost:8080/"
        },
        "id": "aP_0ECLNR3fS",
        "outputId": "d3b351a2-4081-4650-e69a-2ee240717237"
      },
      "source": [
        "print(mmm[5])"
      ],
      "execution_count": null,
      "outputs": [
        {
          "output_type": "stream",
          "text": [
            "k\n"
          ],
          "name": "stdout"
        }
      ]
    },
    {
      "cell_type": "code",
      "metadata": {
        "id": "DI6dLSI8R7Dr"
      },
      "source": [
        "import random"
      ],
      "execution_count": null,
      "outputs": []
    },
    {
      "cell_type": "code",
      "metadata": {
        "colab": {
          "base_uri": "https://localhost:8080/"
        },
        "id": "2plFe1khR_7P",
        "outputId": "b5c46ee1-43ec-446a-f6a7-88f1190b76c9"
      },
      "source": [
        "\r\n",
        "coin=['앞면','뒷면']\r\n",
        "print(random.choice(coin))"
      ],
      "execution_count": null,
      "outputs": [
        {
          "output_type": "stream",
          "text": [
            "앞면\n"
          ],
          "name": "stdout"
        }
      ]
    },
    {
      "cell_type": "code",
      "metadata": {
        "id": "r4crNkkBSIJ6"
      },
      "source": [
        "dice=range(1,7)"
      ],
      "execution_count": null,
      "outputs": []
    },
    {
      "cell_type": "code",
      "metadata": {
        "colab": {
          "base_uri": "https://localhost:8080/"
        },
        "id": "CmBqG6azTsdl",
        "outputId": "fb76a77b-9dc7-4dc1-b2ac-a14dd4fa4ab4"
      },
      "source": [
        "result=random.choice(dice)\r\n",
        "print(result)"
      ],
      "execution_count": null,
      "outputs": [
        {
          "output_type": "stream",
          "text": [
            "1\n"
          ],
          "name": "stdout"
        }
      ]
    },
    {
      "cell_type": "code",
      "metadata": {
        "colab": {
          "base_uri": "https://localhost:8080/"
        },
        "id": "0uM3zJaeUq_6",
        "outputId": "ce649dbc-ed7a-4d9d-c0c8-e34235e90903"
      },
      "source": [
        "dice=[1,2,3,4,5,6]\r\n",
        "print(dice)"
      ],
      "execution_count": null,
      "outputs": [
        {
          "output_type": "stream",
          "text": [
            "[1, 2, 3, 4, 5, 6]\n"
          ],
          "name": "stdout"
        }
      ]
    },
    {
      "cell_type": "code",
      "metadata": {
        "colab": {
          "base_uri": "https://localhost:8080/"
        },
        "id": "KvGOLyvpU8JQ",
        "outputId": "39f8830d-edac-48ec-e614-17e24742b73e"
      },
      "source": [
        "if 8 in dice:\r\n",
        "  print('number 8 is in the dice')\r\n",
        "else:\r\n",
        "  print('number 8 is not is in the dice')"
      ],
      "execution_count": null,
      "outputs": [
        {
          "output_type": "stream",
          "text": [
            "number 8 is not is in the dice\n"
          ],
          "name": "stdout"
        }
      ]
    },
    {
      "cell_type": "code",
      "metadata": {
        "colab": {
          "base_uri": "https://localhost:8080/"
        },
        "id": "D666UUz7VCIf",
        "outputId": "bfce5abd-8ae9-4a7a-bd87-09ccfcce4bae"
      },
      "source": [
        "a=int(input('숫자를 입력하세요'))"
      ],
      "execution_count": null,
      "outputs": [
        {
          "output_type": "stream",
          "text": [
            "숫자를 입력하세요7\n"
          ],
          "name": "stdout"
        }
      ]
    },
    {
      "cell_type": "code",
      "metadata": {
        "colab": {
          "base_uri": "https://localhost:8080/"
        },
        "id": "e87_qVdGVX7U",
        "outputId": "f784f12c-1ed9-4e5d-df85-cbd7bfb38487"
      },
      "source": [
        "print(a)"
      ],
      "execution_count": null,
      "outputs": [
        {
          "output_type": "stream",
          "text": [
            "7\n"
          ],
          "name": "stdout"
        }
      ]
    },
    {
      "cell_type": "code",
      "metadata": {
        "colab": {
          "base_uri": "https://localhost:8080/"
        },
        "id": "j0qa872bVZBI",
        "outputId": "32bd0afc-bd0c-45a4-c58d-bfc165de5c1f"
      },
      "source": [
        "if a in dice:\r\n",
        "  print(a,'가 주사위 안에 있습니다')\r\n",
        "else:\r\n",
        "  print(a,'가 주사위에 없습니다')"
      ],
      "execution_count": null,
      "outputs": [
        {
          "output_type": "stream",
          "text": [
            "7 가 주사위에 없습니다\n"
          ],
          "name": "stdout"
        }
      ]
    },
    {
      "cell_type": "code",
      "metadata": {
        "colab": {
          "base_uri": "https://localhost:8080/"
        },
        "id": "YmcyL6fqVjvy",
        "outputId": "90be71f8-61c8-4a75-8b33-5fae0fcf54de"
      },
      "source": [
        "a=int(input('숫자를 입력하세요'))"
      ],
      "execution_count": null,
      "outputs": [
        {
          "output_type": "stream",
          "text": [
            "숫자를 입력하세요9\n"
          ],
          "name": "stdout"
        }
      ]
    },
    {
      "cell_type": "code",
      "metadata": {
        "colab": {
          "base_uri": "https://localhost:8080/"
        },
        "id": "cBVtIEhPVzaj",
        "outputId": "a5bbb049-1e2e-4b12-9e27-8ebc3d756035"
      },
      "source": [
        "print(a)"
      ],
      "execution_count": null,
      "outputs": [
        {
          "output_type": "stream",
          "text": [
            "9\n"
          ],
          "name": "stdout"
        }
      ]
    },
    {
      "cell_type": "code",
      "metadata": {
        "colab": {
          "base_uri": "https://localhost:8080/"
        },
        "id": "YGychlW-V0tZ",
        "outputId": "19d7a818-bfa2-4d8e-cc06-7bba811ba466"
      },
      "source": [
        "if a%2==0:\r\n",
        "  print(a,'는 짝수입니다')\r\n",
        "else:\r\n",
        "  print(a,'는 홀수 입니다')"
      ],
      "execution_count": null,
      "outputs": [
        {
          "output_type": "stream",
          "text": [
            "9 는 홀수 입니다\n"
          ],
          "name": "stdout"
        }
      ]
    },
    {
      "cell_type": "code",
      "metadata": {
        "colab": {
          "base_uri": "https://localhost:8080/"
        },
        "id": "U0HUBWYGV_sC",
        "outputId": "262b7ca1-1133-4aa4-b642-48cbdb351c75"
      },
      "source": [
        "a=int(input('숫자를 입력하세요'))"
      ],
      "execution_count": null,
      "outputs": [
        {
          "output_type": "stream",
          "text": [
            "숫자를 입력하세요12\n"
          ],
          "name": "stdout"
        }
      ]
    },
    {
      "cell_type": "code",
      "metadata": {
        "colab": {
          "base_uri": "https://localhost:8080/"
        },
        "id": "lWIq6fRjWoZI",
        "outputId": "f560ce58-d7b5-4a98-84a6-2f9e51ee3618"
      },
      "source": [
        "dice"
      ],
      "execution_count": null,
      "outputs": [
        {
          "output_type": "execute_result",
          "data": {
            "text/plain": [
              "[1, 2, 3, 4, 5, 6]"
            ]
          },
          "metadata": {
            "tags": []
          },
          "execution_count": 97
        }
      ]
    },
    {
      "cell_type": "code",
      "metadata": {
        "colab": {
          "base_uri": "https://localhost:8080/"
        },
        "id": "5GnCEtu-Wq1J",
        "outputId": "cfbfc028-f9f5-4efb-becb-49700a0fa682"
      },
      "source": [
        "if a in dice:\r\n",
        "    print(a,'가 주사위 안에 있습니다')\r\n",
        "else:\r\n",
        "    print(a,'가 주사위에 없습니다')"
      ],
      "execution_count": null,
      "outputs": [
        {
          "output_type": "stream",
          "text": [
            "12 가 주사위에 없습니다\n"
          ],
          "name": "stdout"
        }
      ]
    },
    {
      "cell_type": "code",
      "metadata": {
        "colab": {
          "base_uri": "https://localhost:8080/"
        },
        "id": "eG1j6si-W0yu",
        "outputId": "b8330d54-6b59-4fb7-88dc-f214388c1cff"
      },
      "source": [
        "a=int(input('숫자를 입력하세요'))"
      ],
      "execution_count": null,
      "outputs": [
        {
          "output_type": "stream",
          "text": [
            "숫자를 입력하세요3\n"
          ],
          "name": "stdout"
        }
      ]
    },
    {
      "cell_type": "code",
      "metadata": {
        "colab": {
          "base_uri": "https://localhost:8080/"
        },
        "id": "DtBbsZFfXInW",
        "outputId": "27071696-232e-4ea1-e6d9-ef5df8070dbe"
      },
      "source": [
        "b=int(input('두번째 숫자를 입력하세요'))"
      ],
      "execution_count": null,
      "outputs": [
        {
          "output_type": "stream",
          "text": [
            "두번째 숫자를 입력하세요3\n"
          ],
          "name": "stdout"
        }
      ]
    },
    {
      "cell_type": "code",
      "metadata": {
        "colab": {
          "base_uri": "https://localhost:8080/"
        },
        "id": "GWbaH3KWXNmA",
        "outputId": "7d1a3f93-827e-4e1f-adc3-d6318d829d73"
      },
      "source": [
        "if a < b:\r\n",
        "    print(a ,'가' ,b ,'보다 작아요')\r\n",
        "elif a > b:\r\n",
        "    print(a,'가',b,'보다 큽니다')\r\n",
        "else:\r\n",
        "    print(a,'와',b,'가 같습니다')"
      ],
      "execution_count": null,
      "outputs": [
        {
          "output_type": "stream",
          "text": [
            "3 와 3 가 같습니다\n"
          ],
          "name": "stdout"
        }
      ]
    },
    {
      "cell_type": "code",
      "metadata": {
        "colab": {
          "base_uri": "https://localhost:8080/"
        },
        "id": "0HAKke5JXgIk",
        "outputId": "9d8fe6e3-b205-4847-a7ac-81ca66b59669"
      },
      "source": [
        "print('★'*5)"
      ],
      "execution_count": null,
      "outputs": [
        {
          "output_type": "stream",
          "text": [
            "★★★★★\n"
          ],
          "name": "stdout"
        }
      ]
    },
    {
      "cell_type": "code",
      "metadata": {
        "colab": {
          "base_uri": "https://localhost:8080/"
        },
        "id": "NcFDCujfaZOs",
        "outputId": "88ae9cbc-99bb-467d-dc1c-9b73b3ac90d6"
      },
      "source": [
        "for i in range(1,6):\r\n",
        "  print( '★' * i)"
      ],
      "execution_count": null,
      "outputs": [
        {
          "output_type": "stream",
          "text": [
            "★\n",
            "★★\n",
            "★★★\n",
            "★★★★\n",
            "★★★★★\n"
          ],
          "name": "stdout"
        }
      ]
    },
    {
      "cell_type": "code",
      "metadata": {
        "colab": {
          "base_uri": "https://localhost:8080/"
        },
        "id": "dEhGJAVbapMQ",
        "outputId": "ec1602e8-c399-40a5-e55a-f8ec5f7db27c"
      },
      "source": [
        "dice"
      ],
      "execution_count": null,
      "outputs": [
        {
          "output_type": "execute_result",
          "data": {
            "text/plain": [
              "[1, 2, 3, 4, 5, 6]"
            ]
          },
          "metadata": {
            "tags": []
          },
          "execution_count": 131
        }
      ]
    },
    {
      "cell_type": "code",
      "metadata": {
        "colab": {
          "base_uri": "https://localhost:8080/"
        },
        "id": "FFY-F0Rea_TR",
        "outputId": "889e6482-176d-4612-8eb0-9eb23700e6d6"
      },
      "source": [
        "result= random.choice(dice)\r\n",
        "print(result)"
      ],
      "execution_count": null,
      "outputs": [
        {
          "output_type": "stream",
          "text": [
            "6\n"
          ],
          "name": "stdout"
        }
      ]
    },
    {
      "cell_type": "code",
      "metadata": {
        "colab": {
          "base_uri": "https://localhost:8080/"
        },
        "id": "oAnebPeFbCY0",
        "outputId": "a26acadb-2988-4ac1-b8b1-c4338e97ee66"
      },
      "source": [
        "for i in range(1,11):\r\n",
        "  print(random.choice(dice))"
      ],
      "execution_count": null,
      "outputs": [
        {
          "output_type": "stream",
          "text": [
            "4\n",
            "5\n",
            "2\n",
            "5\n",
            "2\n",
            "6\n",
            "4\n",
            "5\n",
            "3\n",
            "5\n"
          ],
          "name": "stdout"
        }
      ]
    },
    {
      "cell_type": "code",
      "metadata": {
        "colab": {
          "base_uri": "https://localhost:8080/"
        },
        "id": "rHBp5Z1pbHbz",
        "outputId": "b2918574-fcf3-49d2-9c22-e41161b8bc25"
      },
      "source": [
        "coin=['head','tail']\r\n",
        "print(coin)"
      ],
      "execution_count": null,
      "outputs": [
        {
          "output_type": "stream",
          "text": [
            "['head', 'tail']\n"
          ],
          "name": "stdout"
        }
      ]
    },
    {
      "cell_type": "code",
      "metadata": {
        "colab": {
          "base_uri": "https://localhost:8080/"
        },
        "id": "gX6PV5c4bbde",
        "outputId": "64163677-cfd3-4a53-8710-7e0246847f90"
      },
      "source": [
        "cnt=0\r\n",
        "for i in[1,2,3,4,5,6,7,8,9,10]:\r\n",
        "  result=random.choice(coin)\r\n",
        "  if result=='head':\r\n",
        "    cnt=cnt+1\r\n",
        "print(cnt)"
      ],
      "execution_count": null,
      "outputs": [
        {
          "output_type": "stream",
          "text": [
            "6\n"
          ],
          "name": "stdout"
        }
      ]
    },
    {
      "cell_type": "code",
      "metadata": {
        "colab": {
          "base_uri": "https://localhost:8080/"
        },
        "id": "2PgS2CpibmFy",
        "outputId": "d81473dc-b8dc-45af-88e6-9afaf16d9a38"
      },
      "source": [
        "cnt=0\r\n",
        "for i in range(1,101):\r\n",
        "  result=random.choice(dice)\r\n",
        "  if result==3:\r\n",
        "    cnt=cnt+1\r\n",
        "print(cnt)"
      ],
      "execution_count": null,
      "outputs": [
        {
          "output_type": "stream",
          "text": [
            "19\n"
          ],
          "name": "stdout"
        }
      ]
    },
    {
      "cell_type": "code",
      "metadata": {
        "colab": {
          "base_uri": "https://localhost:8080/"
        },
        "id": "OaUDxLBwcjav",
        "outputId": "79b090e9-49a0-48fb-ff1e-c4069dfadd23"
      },
      "source": [
        "cnt=0\r\n",
        "for i in range(1,1001):\r\n",
        "  result=random.choice(dice)\r\n",
        "  if result==5:\r\n",
        "    cnt=cnt+1\r\n",
        "print(cnt/1000)"
      ],
      "execution_count": null,
      "outputs": [
        {
          "output_type": "stream",
          "text": [
            "0.156\n"
          ],
          "name": "stdout"
        }
      ]
    },
    {
      "cell_type": "code",
      "metadata": {
        "colab": {
          "base_uri": "https://localhost:8080/"
        },
        "id": "P9_48oO-eDz_",
        "outputId": "3154f30b-2b6b-47f4-e3f0-d280bf49c5ce"
      },
      "source": [
        "print(dice)\r\n",
        "print(coin)"
      ],
      "execution_count": null,
      "outputs": [
        {
          "output_type": "stream",
          "text": [
            "[1, 2, 3, 4, 5, 6]\n",
            "['head', 'tail']\n"
          ],
          "name": "stdout"
        }
      ]
    },
    {
      "cell_type": "code",
      "metadata": {
        "colab": {
          "base_uri": "https://localhost:8080/"
        },
        "id": "-UQ1NYsndPWZ",
        "outputId": "3c0f7777-4982-4ae1-98ce-7505fe5ad1c5"
      },
      "source": [
        "cnt=cnt+1\r\n",
        "for i in range(1,100001):\r\n",
        "  result_dice=random.choice(dice)\r\n",
        "  result_coin=random.choice(coin)\r\n",
        "  if result_dice==5 and result_coin=='head':\r\n",
        "    cnt=cnt+1\r\n",
        "print(cnt/100000)"
      ],
      "execution_count": null,
      "outputs": [
        {
          "output_type": "stream",
          "text": [
            "0.16896\n"
          ],
          "name": "stdout"
        }
      ]
    },
    {
      "cell_type": "code",
      "metadata": {
        "colab": {
          "base_uri": "https://localhost:8080/"
        },
        "id": "FgIzH7AfeWew",
        "outputId": "791e47a2-13eb-434a-ec3f-149fe60d1810"
      },
      "source": [
        "print(type(result_dice))"
      ],
      "execution_count": null,
      "outputs": [
        {
          "output_type": "stream",
          "text": [
            "<class 'int'>\n"
          ],
          "name": "stdout"
        }
      ]
    },
    {
      "cell_type": "code",
      "metadata": {
        "colab": {
          "base_uri": "https://localhost:8080/"
        },
        "id": "KDSomh1Iejco",
        "outputId": "148b7959-f270-4115-b445-0d8768503224"
      },
      "source": [
        "print(type(result_coin))"
      ],
      "execution_count": null,
      "outputs": [
        {
          "output_type": "stream",
          "text": [
            "<class 'str'>\n"
          ],
          "name": "stdout"
        }
      ]
    },
    {
      "cell_type": "code",
      "metadata": {
        "id": "RMnudfnReliQ"
      },
      "source": [
        ""
      ],
      "execution_count": null,
      "outputs": []
    },
    {
      "cell_type": "code",
      "metadata": {
        "id": "PhnECtnpjxz2"
      },
      "source": [
        ""
      ],
      "execution_count": null,
      "outputs": []
    }
  ]
}
